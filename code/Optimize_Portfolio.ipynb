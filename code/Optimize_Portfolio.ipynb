{
  "nbformat": 4,
  "nbformat_minor": 0,
  "metadata": {
    "colab": {
      "provenance": []
    },
    "kernelspec": {
      "name": "python3",
      "display_name": "Python 3"
    },
    "language_info": {
      "name": "python"
    }
  },
  "cells": [
    {
      "cell_type": "code",
      "source": [
        "pip install forex_python"
      ],
      "metadata": {
        "colab": {
          "base_uri": "https://localhost:8080/"
        },
        "id": "BMBcnnQi2mtE",
        "outputId": "086cddf5-5b50-4a65-9929-7c00673368f0"
      },
      "execution_count": null,
      "outputs": [
        {
          "output_type": "stream",
          "name": "stdout",
          "text": [
            "Collecting forex_python\n",
            "  Downloading forex_python-1.8-py3-none-any.whl (8.2 kB)\n",
            "Requirement already satisfied: requests in /usr/local/lib/python3.10/dist-packages (from forex_python) (2.31.0)\n",
            "Collecting simplejson (from forex_python)\n",
            "  Downloading simplejson-3.19.1-cp310-cp310-manylinux_2_5_x86_64.manylinux1_x86_64.manylinux_2_17_x86_64.manylinux2014_x86_64.whl (137 kB)\n",
            "\u001b[2K     \u001b[90m━━━━━━━━━━━━━━━━━━━━━━━━━━━━━━━━━━━━━━━\u001b[0m \u001b[32m137.9/137.9 kB\u001b[0m \u001b[31m3.1 MB/s\u001b[0m eta \u001b[36m0:00:00\u001b[0m\n",
            "\u001b[?25hRequirement already satisfied: charset-normalizer<4,>=2 in /usr/local/lib/python3.10/dist-packages (from requests->forex_python) (3.2.0)\n",
            "Requirement already satisfied: idna<4,>=2.5 in /usr/local/lib/python3.10/dist-packages (from requests->forex_python) (3.4)\n",
            "Requirement already satisfied: urllib3<3,>=1.21.1 in /usr/local/lib/python3.10/dist-packages (from requests->forex_python) (2.0.4)\n",
            "Requirement already satisfied: certifi>=2017.4.17 in /usr/local/lib/python3.10/dist-packages (from requests->forex_python) (2023.7.22)\n",
            "Installing collected packages: simplejson, forex_python\n",
            "Successfully installed forex_python-1.8 simplejson-3.19.1\n"
          ]
        }
      ]
    },
    {
      "cell_type": "code",
      "source": [
        "import math\n",
        "import yfinance as yf\n",
        "import numpy as np\n",
        "import pandas as pd\n",
        "from datetime import datetime as datetime\n",
        "from pandas.core.arrays.period import timedelta\n",
        "from forex_python.converter import CurrencyRates\n",
        "import random\n",
        "from scipy.optimize import minimize"
      ],
      "metadata": {
        "id": "3o1_iYddhxz5"
      },
      "execution_count": null,
      "outputs": []
    },
    {
      "cell_type": "code",
      "source": [
        "def getDf():\n",
        "  df = pd.read_csv('/content/etfs_list.csv')\n",
        "  adj_close = []\n",
        "  for ticker in df['symbol']:\n",
        "    try:\n",
        "      data = yf.download(ticker, progress=False, show_errors=False)\n",
        "      adj_close.append(data['Adj Close'][-1])\n",
        "    except:\n",
        "      adj_close.append(math.inf)\n",
        "  df[\"adj_close\"] = adj_close\n",
        "  return df\n",
        "df = getDf()"
      ],
      "metadata": {
        "id": "8vgihXB2jq_p",
        "colab": {
          "base_uri": "https://localhost:8080/"
        },
        "outputId": "397c1a59-6b28-4710-fa9e-08c7c939981a"
      },
      "execution_count": null,
      "outputs": [
        {
          "output_type": "stream",
          "name": "stdout",
          "text": [
            "yfinance: download(show_errors=False) argument is deprecated and will be removed in future version. Do this instead to suppress error messages: logging.getLogger('yfinance').setLevel(logging.CRITICAL)\n"
          ]
        }
      ]
    },
    {
      "cell_type": "code",
      "source": [
        "def getNumberOfEtf(amount):\n",
        "  num_portfolios = {\n",
        "    (1, 5000):5,\n",
        "    (5001, 20000):10,\n",
        "    (20000, math.inf): 15\n",
        "  }\n",
        "  no_etfs = 0\n",
        "  for k in num_portfolios:\n",
        "    if amount>=k[0] and amount<=k[1]:\n",
        "      no_etfs = num_portfolios[k]\n",
        "  return no_etfs"
      ],
      "metadata": {
        "id": "q9zHNfN_t2Kp"
      },
      "execution_count": null,
      "outputs": []
    },
    {
      "cell_type": "code",
      "source": [
        "def getPortfolios(number, etfs):\n",
        "  if len(etfs) <= number:\n",
        "    return [etfs]\n",
        "  portfolios = []\n",
        "  for i in range(10):\n",
        "    portfolio = random.sample(etfs, number)\n",
        "    portfolios.append(portfolio)\n",
        "  return portfolios"
      ],
      "metadata": {
        "id": "DG6vPrJWbnbe"
      },
      "execution_count": null,
      "outputs": []
    },
    {
      "cell_type": "code",
      "source": [
        "def adj_close(ticker, start, end):\n",
        "  data = yf.download(ticker, progress=False, start=start, end=end)\n",
        "  if data.shape[0] == 0:\n",
        "    data = yf.download(ticker, progress=False)\n",
        "  return data['Adj Close']"
      ],
      "metadata": {
        "id": "3Wq5bHm-zTLq"
      },
      "execution_count": null,
      "outputs": []
    },
    {
      "cell_type": "code",
      "source": [
        "# adj_close(['QQQ'], None, None)"
      ],
      "metadata": {
        "id": "v7nbAdj0RIEI"
      },
      "execution_count": null,
      "outputs": []
    },
    {
      "cell_type": "code",
      "source": [
        "def standard_deviation(weights, cov_matrix):\n",
        "    variance = weights.T @ cov_matrix @ weights\n",
        "    return np.sqrt(variance)\n",
        "\n",
        "def expected_return(weights, log_returns):\n",
        "    return np.sum(log_returns.mean()*weights)*252\n",
        "\n",
        "def sharpe_ratio(weights, log_returns, cov_matrix, risk_free_rate):\n",
        "    return (expected_return(weights, log_returns) - risk_free_rate) / standard_deviation(weights, cov_matrix)\n",
        "def neg_sharpe_ratio(weights, log_returns, cov_matrix, risk_free_rate):\n",
        "    return -sharpe_ratio(weights, log_returns, cov_matrix, risk_free_rate)"
      ],
      "metadata": {
        "id": "PesCUVpm6E29"
      },
      "execution_count": null,
      "outputs": []
    },
    {
      "cell_type": "code",
      "source": [
        "def optimized_portfolio(tickers, log_returns, cov_matrix, risk_free_rate):\n",
        "  constraints = {'type': 'eq', 'fun': lambda weights: np.sum(weights) - 1}\n",
        "  bounds = [(0, 0.4) for _ in range(len(tickers))]\n",
        "  initial_weights = np.array([1/len(tickers)]*len(tickers))\n",
        "  optimized_results = minimize(neg_sharpe_ratio, initial_weights, args=(log_returns, cov_matrix, risk_free_rate), method='SLSQP', constraints=constraints, bounds=bounds)\n",
        "  optimal_weights = optimized_results.x\n",
        "  result = {}\n",
        "  result[\"weights\"] = optimal_weights\n",
        "  result[\"return\"] = expected_return(optimal_weights, log_returns)\n",
        "  result[\"volatility\"] = standard_deviation(optimal_weights, cov_matrix)\n",
        "  result[\"sharpRatio\"] = sharpe_ratio(optimal_weights, log_returns, cov_matrix, risk_free_rate)\n",
        "  return result"
      ],
      "metadata": {
        "id": "G4tX2LGe9DDU"
      },
      "execution_count": null,
      "outputs": []
    },
    {
      "cell_type": "code",
      "source": [
        "def sharpRatioAndVaR(amount, years, etfs):\n",
        "  end = datetime.today()\n",
        "  start = end - timedelta(days=(years*1.5)*365)\n",
        "  #calculate adj close\n",
        "  adj_close_df = pd.DataFrame()\n",
        "  for ticker in etfs:\n",
        "    adj_close_df[ticker] = adj_close(ticker, start, end)\n",
        "  adj_close_df.dropna(axis=0, inplace=True)\n",
        "\n",
        "  #calculate log returns\n",
        "  log_returns = np.log(adj_close_df/adj_close_df.shift(1))\n",
        "  log_returns.dropna()\n",
        "\n",
        "  #calculate covariance matrix\n",
        "  cov_matrix = log_returns.cov() * 252\n",
        "\n",
        "  #optimize portfolio\n",
        "  risk_free_rate = 0.02\n",
        "  result = optimized_portfolio(etfs, log_returns, cov_matrix, risk_free_rate)\n",
        "  historical_returns = (log_returns * result['weights']).sum(axis =1)\n",
        "  days = 5\n",
        "  range_returns = historical_returns.rolling(window = days).sum()\n",
        "  # print(\"before \" , range_returns)\n",
        "  range_returns = range_returns.dropna()\n",
        "  confidence_interval = 0.99\n",
        "  # print(historical_returns)\n",
        "  # print(range_returns)\n",
        "\n",
        "  VaR = -np.percentile(range_returns, 100 - (confidence_interval * 100))*amount\n",
        "  result['VaR'] = VaR\n",
        "  result['etfs'] = etfs\n",
        "  # print(result)\n",
        "  return result"
      ],
      "metadata": {
        "id": "x1ByOlpOsyb2"
      },
      "execution_count": null,
      "outputs": []
    },
    {
      "cell_type": "code",
      "source": [
        "# sharpRatioAndVaR(3000, 10, ['SPY','BND','GLD','QQQ','VTI'])"
      ],
      "metadata": {
        "id": "b2z0DKjz08u2"
      },
      "execution_count": null,
      "outputs": []
    },
    {
      "cell_type": "code",
      "execution_count": null,
      "metadata": {
        "id": "DckWNbrBgsmM"
      },
      "outputs": [],
      "source": [
        "def getOptPortfolio(amount, years, risk_level):\n",
        "  cr = CurrencyRates()\n",
        "  amount = cr.convert('GBP', 'USD', amount)\n",
        "  no_etfs = getNumberOfEtf(amount)\n",
        "  data = df.loc[df[\"adj_close\"]<=amount]\n",
        "  etfs = list(data['symbol'])\n",
        "  portfolios = getPortfolios(no_etfs, etfs)\n",
        "  sharpRatioAndVaRs = []\n",
        "  for portfolio in portfolios:\n",
        "    try:\n",
        "      sharpRatioAndVaRs.append(sharpRatioAndVaR(amount, years, portfolio))\n",
        "    except:\n",
        "      pass\n",
        "  risk_amount = risk_level * amount\n",
        "  sharpRatioAndVaRs = [x for x in sharpRatioAndVaRs if x[\"VaR\"] <= risk_amount]\n",
        "  if len(sharpRatioAndVaRs) == 0:\n",
        "    sharpRatioAndVaRs.sort(key=lambda portfolio:portfolio['VaR'])\n",
        "    return sharpRatioAndVaRs[0]\n",
        "  sharpRatioAndVaRs.sort(key=lambda portfolio:portfolio['sharpRatio'])\n",
        "  return sharpRatioAndVaRs[-1]"
      ]
    },
    {
      "cell_type": "code",
      "source": [
        "r = getOptPortfolio(10000, 10, 0.5)"
      ],
      "metadata": {
        "colab": {
          "base_uri": "https://localhost:8080/"
        },
        "id": "YgOGPKM1LzbQ",
        "outputId": "709c0994-f5b5-402f-91c7-1d6d60898c96"
      },
      "execution_count": null,
      "outputs": [
        {
          "output_type": "stream",
          "name": "stderr",
          "text": [
            "/usr/local/lib/python3.10/dist-packages/numpy/lib/function_base.py:518: RuntimeWarning: Mean of empty slice.\n",
            "  avg = a.mean(axis, **keepdims_kw)\n",
            "/usr/local/lib/python3.10/dist-packages/numpy/core/_methods.py:182: RuntimeWarning: invalid value encountered in divide\n",
            "  ret = um.true_divide(\n",
            "/usr/local/lib/python3.10/dist-packages/pandas/core/frame.py:10474: RuntimeWarning: Degrees of freedom <= 0 for slice\n",
            "  base_cov = np.cov(mat.T, ddof=ddof)\n",
            "/usr/local/lib/python3.10/dist-packages/numpy/lib/function_base.py:2704: RuntimeWarning: divide by zero encountered in divide\n",
            "  c *= np.true_divide(1, fact)\n",
            "/usr/local/lib/python3.10/dist-packages/numpy/lib/function_base.py:2704: RuntimeWarning: invalid value encountered in multiply\n",
            "  c *= np.true_divide(1, fact)\n"
          ]
        }
      ]
    },
    {
      "cell_type": "code",
      "source": [
        "r"
      ],
      "metadata": {
        "colab": {
          "base_uri": "https://localhost:8080/"
        },
        "id": "uwsqMsGcMB92",
        "outputId": "e247550b-8061-4a02-9f52-bb9bd0248f2b"
      },
      "execution_count": null,
      "outputs": [
        {
          "output_type": "execute_result",
          "data": {
            "text/plain": [
              "{'weights': array([0.4       , 0.        , 0.        , 0.        , 0.32184572,\n",
              "        0.        , 0.        , 0.25217252, 0.        , 0.02598176]),\n",
              " 'return': 0.3768080418780494,\n",
              " 'volatility': 0.20567931042167012,\n",
              " 'sharpRatio': 1.7347784818343912,\n",
              " 'VaR': 974.0706556840678,\n",
              " 'etfs': ['SMIN',\n",
              "  'PHO',\n",
              "  'BRND',\n",
              "  'XLE',\n",
              "  'GLIN',\n",
              "  'FILL',\n",
              "  'CRUD',\n",
              "  'VAW',\n",
              "  'ISHG',\n",
              "  'HAUZ']}"
            ]
          },
          "metadata": {},
          "execution_count": 80
        }
      ]
    },
    {
      "cell_type": "code",
      "source": [],
      "metadata": {
        "id": "6CibzlPcR_Br"
      },
      "execution_count": null,
      "outputs": []
    }
  ]
}